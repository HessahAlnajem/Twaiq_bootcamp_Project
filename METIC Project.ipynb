{
 "cells": [
  {
   "cell_type": "markdown",
   "id": "517eb8d4",
   "metadata": {},
   "source": [
    " Step 0: Imports"
   ]
  },
  {
   "cell_type": "code",
   "execution_count": 2,
   "id": "44537e40",
   "metadata": {},
   "outputs": [],
   "source": [
    "#import packages\n",
    "import numpy as np\n",
    "import pandas as pd\n",
    "import matplotlib.pyplot as plt\n",
    "import seaborn as sns\n",
    "%matplotlib inline\n",
    "import datetime as dt\n",
    "from sklearn.ensemble import RandomForestClassifier\n",
    "from sklearn.datasets import make_classification"
   ]
  },
  {
   "cell_type": "markdown",
   "id": "05ef5c9e",
   "metadata": {},
   "source": [
    "Step 1: Dataset"
   ]
  },
  {
   "cell_type": "code",
   "execution_count": 3,
   "id": "91df8969",
   "metadata": {},
   "outputs": [],
   "source": [
    "# read the data set\n",
    "df=pd.read_csv('wusool_data.csv')"
   ]
  },
  {
   "cell_type": "code",
   "execution_count": 4,
   "id": "5ba0698d",
   "metadata": {},
   "outputs": [
    {
     "data": {
      "text/html": [
       "<div>\n",
       "<style scoped>\n",
       "    .dataframe tbody tr th:only-of-type {\n",
       "        vertical-align: middle;\n",
       "    }\n",
       "\n",
       "    .dataframe tbody tr th {\n",
       "        vertical-align: top;\n",
       "    }\n",
       "\n",
       "    .dataframe thead th {\n",
       "        text-align: right;\n",
       "    }\n",
       "</style>\n",
       "<table border=\"1\" class=\"dataframe\">\n",
       "  <thead>\n",
       "    <tr style=\"text-align: right;\">\n",
       "      <th></th>\n",
       "      <th>رقم تسلسلي</th>\n",
       "      <th>الحالة</th>\n",
       "      <th>المدينة</th>\n",
       "      <th>المنطقة</th>\n",
       "      <th>مدينة العنوان الوطني</th>\n",
       "      <th>تاريخ أول رحلة</th>\n",
       "      <th>تاريخ آخر رحلة</th>\n",
       "      <th>تاريخ التسجيل</th>\n",
       "    </tr>\n",
       "  </thead>\n",
       "  <tbody>\n",
       "    <tr>\n",
       "      <th>0</th>\n",
       "      <td>1</td>\n",
       "      <td>فعالة (قامت بأخذ رحلة واحدة على الأقل في البرن...</td>\n",
       "      <td>ثول</td>\n",
       "      <td>مكة المكرمة</td>\n",
       "      <td>NaN</td>\n",
       "      <td>4/15/2021</td>\n",
       "      <td>4/16/2021</td>\n",
       "      <td>4/12/2021</td>\n",
       "    </tr>\n",
       "    <tr>\n",
       "      <th>1</th>\n",
       "      <td>2</td>\n",
       "      <td>فعالة (قامت بأخذ رحلة واحدة على الأقل في البرن...</td>\n",
       "      <td>طريف</td>\n",
       "      <td>الرياض</td>\n",
       "      <td>NaN</td>\n",
       "      <td>3/2/2021</td>\n",
       "      <td>4/20/2021</td>\n",
       "      <td>3/1/2021</td>\n",
       "    </tr>\n",
       "  </tbody>\n",
       "</table>\n",
       "</div>"
      ],
      "text/plain": [
       "   رقم تسلسلي                                             الحالة المدينة  \\\n",
       "0           1  فعالة (قامت بأخذ رحلة واحدة على الأقل في البرن...     ثول   \n",
       "1           2  فعالة (قامت بأخذ رحلة واحدة على الأقل في البرن...    طريف   \n",
       "\n",
       "       المنطقة مدينة العنوان الوطني تاريخ أول رحلة تاريخ آخر رحلة  \\\n",
       "0  مكة المكرمة                  NaN      4/15/2021      4/16/2021   \n",
       "1       الرياض                  NaN       3/2/2021      4/20/2021   \n",
       "\n",
       "  تاريخ التسجيل  \n",
       "0     4/12/2021  \n",
       "1      3/1/2021  "
      ]
     },
     "execution_count": 4,
     "metadata": {},
     "output_type": "execute_result"
    }
   ],
   "source": [
    "# show the 1st two rows in data set\n",
    "df.head(2)"
   ]
  },
  {
   "cell_type": "code",
   "execution_count": 5,
   "id": "14c59ea0",
   "metadata": {},
   "outputs": [
    {
     "name": "stdout",
     "output_type": "stream",
     "text": [
      "<class 'pandas.core.frame.DataFrame'>\n",
      "RangeIndex: 123871 entries, 0 to 123870\n",
      "Data columns (total 8 columns):\n",
      " #   Column                Non-Null Count   Dtype \n",
      "---  ------                --------------   ----- \n",
      " 0   رقم تسلسلي            123871 non-null  int64 \n",
      " 1   الحالة                123871 non-null  object\n",
      " 2   المدينة               119594 non-null  object\n",
      " 3   المنطقة               121306 non-null  object\n",
      " 4   مدينة العنوان الوطني  96088 non-null   object\n",
      " 5   تاريخ أول رحلة        100594 non-null  object\n",
      " 6   تاريخ آخر رحلة        100594 non-null  object\n",
      " 7   تاريخ التسجيل         123871 non-null  object\n",
      "dtypes: int64(1), object(7)\n",
      "memory usage: 7.6+ MB\n"
     ]
    }
   ],
   "source": [
    "# show the informations in data set\n",
    "df.info()"
   ]
  },
  {
   "attachments": {},
   "cell_type": "markdown",
   "id": "5f1c7362",
   "metadata": {},
   "source": [
    "Step 2: Data cleaning & prepressing \n",
    "1- column:\n",
    "- rename columns to english.\n",
    "- remove white space.\n",
    "- check data type.\n",
    "2- row:\n",
    "- check missing date.\n",
    "- fill missing date with NA.\n",
    "- check duplicate."
   ]
  },
  {
   "cell_type": "code",
   "execution_count": 6,
   "id": "cbfcbb92",
   "metadata": {},
   "outputs": [
    {
     "data": {
      "text/plain": [
       "Index(['رقم تسلسلي', 'الحالة', 'المدينة', 'المنطقة', 'مدينة العنوان الوطني',\n",
       "       'تاريخ أول رحلة', 'تاريخ آخر رحلة', 'تاريخ التسجيل'],\n",
       "      dtype='object')"
      ]
     },
     "execution_count": 6,
     "metadata": {},
     "output_type": "execute_result"
    }
   ],
   "source": [
    "df.columns"
   ]
  },
  {
   "cell_type": "code",
   "execution_count": 7,
   "id": "ef88a5ee",
   "metadata": {},
   "outputs": [
    {
     "data": {
      "text/plain": [
       "(123871, 8)"
      ]
     },
     "execution_count": 7,
     "metadata": {},
     "output_type": "execute_result"
    }
   ],
   "source": [
    "df.shape"
   ]
  },
  {
   "cell_type": "code",
   "execution_count": 9,
   "id": "76503426",
   "metadata": {},
   "outputs": [],
   "source": [
    "# rename the columns\n",
    "df= df.rename(columns={\n",
    "    'رقم تسلسلي':'serial-number',\n",
    "    'الحالة':'status',\n",
    "    'المدينة':'city',\n",
    "    'المنطقة':'region',\n",
    "    'مدينة العنوان الوطني':'NAS',\n",
    "    'تاريخ أول رحلة':'FirstFlightDate',\n",
    "    'تاريخ آخر رحلة':'LastFlightDate',\n",
    "    'تاريخ التسجيل':'RegistrationDate'})\n",
    "\n"
   ]
  },
  {
   "cell_type": "code",
   "execution_count": 13,
   "id": "45320e8d",
   "metadata": {},
   "outputs": [
    {
     "data": {
      "text/plain": [
       "Index(['serial-number', 'status', 'city', 'region', 'NAS', 'FirstFlightDate',\n",
       "       'LastFlightDate', 'RegistrationDate'],\n",
       "      dtype='object')"
      ]
     },
     "execution_count": 13,
     "metadata": {},
     "output_type": "execute_result"
    }
   ],
   "source": [
    "df.columns"
   ]
  },
  {
   "cell_type": "code",
   "execution_count": 10,
   "id": "13db2396",
   "metadata": {},
   "outputs": [],
   "source": [
    "#remove white space.\n",
    "df.columns = df.columns.str.strip()"
   ]
  },
  {
   "cell_type": "code",
   "execution_count": 11,
   "id": "ac2c27d1",
   "metadata": {},
   "outputs": [
    {
     "name": "stdout",
     "output_type": "stream",
     "text": [
      "serial-number        int64\n",
      "status              object\n",
      "city                object\n",
      "region              object\n",
      "NAS                 object\n",
      "FirstFlightDate     object\n",
      "LastFlightDate      object\n",
      "RegistrationDate    object\n",
      "dtype: object\n"
     ]
    }
   ],
   "source": [
    "#check data type\n",
    "print(df.dtypes)"
   ]
  },
  {
   "cell_type": "code",
   "execution_count": 12,
   "id": "2e0e98f8",
   "metadata": {},
   "outputs": [
    {
     "data": {
      "text/plain": [
       "serial-number           0\n",
       "status                  0\n",
       "city                 4277\n",
       "region               2565\n",
       "NAS                 27783\n",
       "FirstFlightDate     23277\n",
       "LastFlightDate      23277\n",
       "RegistrationDate        0\n",
       "dtype: int64"
      ]
     },
     "execution_count": 12,
     "metadata": {},
     "output_type": "execute_result"
    }
   ],
   "source": [
    "#check missimg date.\n",
    "df.isna().sum()"
   ]
  },
  {
   "cell_type": "markdown",
   "id": "b1ad7008",
   "metadata": {},
   "source": [
    "Step 3: EDA"
   ]
  },
  {
   "cell_type": "markdown",
   "id": "8bfa7d10",
   "metadata": {},
   "source": [
    "Step 4: Modelling"
   ]
  },
  {
   "cell_type": "markdown",
   "id": "d3396c7c",
   "metadata": {},
   "source": [
    "Step 5:  Evaluation & Conclusion"
   ]
  }
 ],
 "metadata": {
  "kernelspec": {
   "display_name": "Python 3 (ipykernel)",
   "language": "python",
   "name": "python3"
  },
  "language_info": {
   "codemirror_mode": {
    "name": "ipython",
    "version": 3
   },
   "file_extension": ".py",
   "mimetype": "text/x-python",
   "name": "python",
   "nbconvert_exporter": "python",
   "pygments_lexer": "ipython3",
   "version": "3.9.7"
  }
 },
 "nbformat": 4,
 "nbformat_minor": 5
}
