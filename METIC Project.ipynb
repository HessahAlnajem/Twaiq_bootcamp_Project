{
 "cells": [
  {
   "cell_type": "markdown",
   "id": "517eb8d4",
   "metadata": {},
   "source": [
    " Step 0: Imports"
   ]
  },
  {
   "cell_type": "code",
   "execution_count": 2,
   "id": "44537e40",
   "metadata": {},
   "outputs": [],
   "source": [
    "#import packages\n",
    "import numpy as np\n",
    "import pandas as pd\n",
    "\n",
    "import matplotlib.pyplot as plt\n",
    "import seaborn as sns\n",
    "%matplotlib inline\n",
    "\n",
    "import datetime as dt\n",
    "\n",
    "from sklearn.ensemble import RandomForestClassifier\n",
    "from sklearn.datasets import make_classification\n",
    "from sklearn.model_selection import RepeatedStratifiedKFold\n",
    "from sklearn.model_selection import cross_val_score\n",
    "from sklearn.model_selection import train_test_split"
   ]
  },
  {
   "cell_type": "markdown",
   "id": "05ef5c9e",
   "metadata": {},
   "source": [
    "Step 1: Dataset"
   ]
  },
  {
   "cell_type": "code",
   "execution_count": 3,
   "id": "91df8969",
   "metadata": {},
   "outputs": [],
   "source": [
    "# read the data set\n",
    "df=pd.read_csv('wusool_data.csv')"
   ]
  },
  {
   "cell_type": "code",
   "execution_count": 4,
   "id": "5ba0698d",
   "metadata": {},
   "outputs": [
    {
     "data": {
      "text/html": [
       "<div>\n",
       "<style scoped>\n",
       "    .dataframe tbody tr th:only-of-type {\n",
       "        vertical-align: middle;\n",
       "    }\n",
       "\n",
       "    .dataframe tbody tr th {\n",
       "        vertical-align: top;\n",
       "    }\n",
       "\n",
       "    .dataframe thead th {\n",
       "        text-align: right;\n",
       "    }\n",
       "</style>\n",
       "<table border=\"1\" class=\"dataframe\">\n",
       "  <thead>\n",
       "    <tr style=\"text-align: right;\">\n",
       "      <th></th>\n",
       "      <th>رقم تسلسلي</th>\n",
       "      <th>الحالة</th>\n",
       "      <th>المدينة</th>\n",
       "      <th>المنطقة</th>\n",
       "      <th>مدينة العنوان الوطني</th>\n",
       "      <th>تاريخ أول رحلة</th>\n",
       "      <th>تاريخ آخر رحلة</th>\n",
       "      <th>تاريخ التسجيل</th>\n",
       "    </tr>\n",
       "  </thead>\n",
       "  <tbody>\n",
       "    <tr>\n",
       "      <th>0</th>\n",
       "      <td>1</td>\n",
       "      <td>فعالة</td>\n",
       "      <td>ثول</td>\n",
       "      <td>مكة المكرمة</td>\n",
       "      <td>NaN</td>\n",
       "      <td>4/15/2021</td>\n",
       "      <td>4/16/2021</td>\n",
       "      <td>4/12/2021</td>\n",
       "    </tr>\n",
       "    <tr>\n",
       "      <th>1</th>\n",
       "      <td>2</td>\n",
       "      <td>فعالة</td>\n",
       "      <td>طريف</td>\n",
       "      <td>الرياض</td>\n",
       "      <td>NaN</td>\n",
       "      <td>3/2/2021</td>\n",
       "      <td>4/20/2021</td>\n",
       "      <td>3/1/2021</td>\n",
       "    </tr>\n",
       "  </tbody>\n",
       "</table>\n",
       "</div>"
      ],
      "text/plain": [
       "   رقم تسلسلي الحالة المدينة      المنطقة مدينة العنوان الوطني تاريخ أول رحلة  \\\n",
       "0           1  فعالة     ثول  مكة المكرمة                  NaN      4/15/2021   \n",
       "1           2  فعالة    طريف       الرياض                  NaN       3/2/2021   \n",
       "\n",
       "  تاريخ آخر رحلة تاريخ التسجيل  \n",
       "0      4/16/2021     4/12/2021  \n",
       "1      4/20/2021      3/1/2021  "
      ]
     },
     "execution_count": 4,
     "metadata": {},
     "output_type": "execute_result"
    }
   ],
   "source": [
    "# show the 1st two rows in data set\n",
    "df.head(2)"
   ]
  },
  {
   "cell_type": "code",
   "execution_count": 5,
   "id": "14c59ea0",
   "metadata": {
    "scrolled": true
   },
   "outputs": [
    {
     "name": "stdout",
     "output_type": "stream",
     "text": [
      "<class 'pandas.core.frame.DataFrame'>\n",
      "RangeIndex: 123871 entries, 0 to 123870\n",
      "Data columns (total 8 columns):\n",
      " #   Column                Non-Null Count   Dtype \n",
      "---  ------                --------------   ----- \n",
      " 0   رقم تسلسلي            123871 non-null  int64 \n",
      " 1   الحالة                123871 non-null  object\n",
      " 2   المدينة               119594 non-null  object\n",
      " 3   المنطقة               121306 non-null  object\n",
      " 4   مدينة العنوان الوطني  96088 non-null   object\n",
      " 5   تاريخ أول رحلة        100594 non-null  object\n",
      " 6   تاريخ آخر رحلة        100594 non-null  object\n",
      " 7   تاريخ التسجيل         123871 non-null  object\n",
      "dtypes: int64(1), object(7)\n",
      "memory usage: 7.6+ MB\n"
     ]
    }
   ],
   "source": [
    "# show the informations in data set\n",
    "df.info()"
   ]
  },
  {
   "cell_type": "markdown",
   "id": "5f1c7362",
   "metadata": {},
   "source": [
    "Step 2: Data cleaning & prepressing \n",
    "1- column:\n",
    "- rename columns to english.\n",
    "- remove white space.\n",
    "- check data type.\n",
    "- overwriting FirstFlightDate, LastFlightDate, RegistrationDate after changing format\n",
    "\n",
    "2- row:\n",
    "- check missing date.\n",
    "- fill missing date with NAN.\n",
    "- check duplicate.\n",
    "- replace status data columns with:( \"مستبعدة\" --> \"InActive\",\"مؤهلة\" --> \"eligible\", \"فعالة\" --> \"Active\" )\n",
    "- replace each region to english"
   ]
  },
  {
   "cell_type": "code",
   "execution_count": 6,
   "id": "cbfcbb92",
   "metadata": {},
   "outputs": [
    {
     "data": {
      "text/plain": [
       "Index(['رقم تسلسلي', 'الحالة', 'المدينة', 'المنطقة', 'مدينة العنوان الوطني',\n",
       "       'تاريخ أول رحلة', 'تاريخ آخر رحلة', 'تاريخ التسجيل'],\n",
       "      dtype='object')"
      ]
     },
     "execution_count": 6,
     "metadata": {},
     "output_type": "execute_result"
    }
   ],
   "source": [
    "df.columns"
   ]
  },
  {
   "cell_type": "code",
   "execution_count": 7,
   "id": "ef88a5ee",
   "metadata": {},
   "outputs": [
    {
     "data": {
      "text/plain": [
       "(123871, 8)"
      ]
     },
     "execution_count": 7,
     "metadata": {},
     "output_type": "execute_result"
    }
   ],
   "source": [
    "df.shape"
   ]
  },
  {
   "cell_type": "code",
   "execution_count": 8,
   "id": "76503426",
   "metadata": {},
   "outputs": [],
   "source": [
    "# rename the columns\n",
    "df= df.rename(columns={\n",
    "    'رقم تسلسلي':'serial-number',\n",
    "    'الحالة':'status',\n",
    "    'المدينة':'city',\n",
    "    'المنطقة':'region',\n",
    "    'مدينة العنوان الوطني':'NAS',\n",
    "    'تاريخ أول رحلة':'FirstFlightDate',\n",
    "    'تاريخ آخر رحلة':'LastFlightDate',\n",
    "    'تاريخ التسجيل':'RegistrationDate'})\n",
    "\n"
   ]
  },
  {
   "cell_type": "code",
   "execution_count": 9,
   "id": "220efdb0",
   "metadata": {},
   "outputs": [
    {
     "data": {
      "text/plain": [
       "Index(['serial-number', 'status', 'city', 'region', 'NAS', 'FirstFlightDate',\n",
       "       'LastFlightDate', 'RegistrationDate'],\n",
       "      dtype='object')"
      ]
     },
     "execution_count": 9,
     "metadata": {},
     "output_type": "execute_result"
    }
   ],
   "source": [
    "df.columns"
   ]
  },
  {
   "cell_type": "code",
   "execution_count": 10,
   "id": "13db2396",
   "metadata": {},
   "outputs": [],
   "source": [
    "#remove white space.\n",
    "df.columns = df.columns.str.strip()"
   ]
  },
  {
   "cell_type": "code",
   "execution_count": 11,
   "id": "ac2c27d1",
   "metadata": {},
   "outputs": [
    {
     "name": "stdout",
     "output_type": "stream",
     "text": [
      "serial-number        int64\n",
      "status              object\n",
      "city                object\n",
      "region              object\n",
      "NAS                 object\n",
      "FirstFlightDate     object\n",
      "LastFlightDate      object\n",
      "RegistrationDate    object\n",
      "dtype: object\n"
     ]
    }
   ],
   "source": [
    "#check data type\n",
    "print(df.dtypes)"
   ]
  },
  {
   "cell_type": "code",
   "execution_count": 12,
   "id": "cc78b151",
   "metadata": {},
   "outputs": [],
   "source": [
    "# overwriting FirstFlightDate, LastFlightDate, RegistrationDate after changing format\n",
    "df[\"FirstFlightDate\"]= pd.to_datetime(df[\"FirstFlightDate\"])\n",
    "df[\"LastFlightDate\"]= pd.to_datetime(df[\"LastFlightDate\"])\n",
    "df[\"RegistrationDate\"]= pd.to_datetime(df[\"RegistrationDate\"])"
   ]
  },
  {
   "cell_type": "code",
   "execution_count": 13,
   "id": "2e0e98f8",
   "metadata": {},
   "outputs": [
    {
     "data": {
      "text/plain": [
       "serial-number           0\n",
       "status                  0\n",
       "city                 4277\n",
       "region               2565\n",
       "NAS                 27783\n",
       "FirstFlightDate     23277\n",
       "LastFlightDate      23277\n",
       "RegistrationDate        0\n",
       "dtype: int64"
      ]
     },
     "execution_count": 13,
     "metadata": {},
     "output_type": "execute_result"
    }
   ],
   "source": [
    "#check missimg date.\n",
    "df.isna().sum()"
   ]
  },
  {
   "cell_type": "code",
   "execution_count": 14,
   "id": "794c54b7",
   "metadata": {},
   "outputs": [
    {
     "data": {
      "text/plain": [
       "serial-number           0\n",
       "status                  0\n",
       "city                    0\n",
       "region                  0\n",
       "NAS                     0\n",
       "FirstFlightDate     23277\n",
       "LastFlightDate      23277\n",
       "RegistrationDate        0\n",
       "dtype: int64"
      ]
     },
     "execution_count": 14,
     "metadata": {},
     "output_type": "execute_result"
    }
   ],
   "source": [
    "#fill missing date with 0.\n",
    "df = df.fillna(\"NAN\")\n",
    "df.isna().sum()"
   ]
  },
  {
   "cell_type": "code",
   "execution_count": 15,
   "id": "a7c4fb2c",
   "metadata": {},
   "outputs": [
    {
     "data": {
      "text/plain": [
       "0"
      ]
     },
     "execution_count": 15,
     "metadata": {},
     "output_type": "execute_result"
    }
   ],
   "source": [
    "#check duplicate.\n",
    "df.duplicated().sum()"
   ]
  },
  {
   "cell_type": "code",
   "execution_count": 23,
   "id": "e7ff6b9a",
   "metadata": {},
   "outputs": [],
   "source": [
    "#replace \"مستبعدة\" with \"InActive\"\n",
    "#replace \"مؤهلة\" with \"eligible\"\n",
    "#replace \"فعالة\" with \"Active\"\n",
    "\n",
    "df['status']=df[\"status\"].replace(\"مستبعدة\", \"InActive\", regex=True)\n",
    "df['status']=df[\"status\"].replace(\"مؤهلة\", \"eligible\", regex=True)\n",
    "df['status']=df[\"status\"].replace(\"فعالة\", \"Active\", regex=True)\n"
   ]
  },
  {
   "cell_type": "code",
   "execution_count": 16,
   "id": "0b44b95e",
   "metadata": {},
   "outputs": [],
   "source": [
    "#replace each region to english\n",
    "\n",
    "df['region']=df[\"region\"].replace(\"الباحة\", \"Albaha\", regex=True)\n",
    "df['region']=df[\"region\"].replace(\"الجوف\", \"Aljoof\", regex=True)\n",
    "df['region']=df[\"region\"].replace(\"الحدود الشمالية\", \"Northern borders\", regex=True)\n",
    "df['region']=df[\"region\"].replace(\"الرياض\", \"Riyadh\", regex=True)\n",
    "df['region']=df[\"region\"].replace(\"القصيم\", \"Al-Qassim\", regex=True)\n",
    "df['region']=df[\"region\"].replace(\"المدينة المنورة\", \"Medina\", regex=True)\n",
    "df['region']=df[\"region\"].replace(\"تبوك\", \"Tabuk\", regex=True)\n",
    "df['region']=df[\"region\"].replace(\"المنطقة الشرقية\", \"Eastern Region\", regex=True)\n",
    "df['region']=df[\"region\"].replace(\"جازان\", \"jazan\", regex=True)\n",
    "df['region']=df[\"region\"].replace(\"حائل\", \"Hail\", regex=True)\n",
    "df['region']=df[\"region\"].replace(\"عسير\", \"Assir\", regex=True)\n",
    "df['region']=df[\"region\"].replace(\"مكة المكرمة\", \"Makkah\", regex=True)\n",
    "df['region']=df[\"region\"].replace(\"نجران\", \"Najran\", regex=True)\n"
   ]
  },
  {
   "cell_type": "code",
   "execution_count": 17,
   "id": "e5a98e5b",
   "metadata": {},
   "outputs": [
    {
     "name": "stdout",
     "output_type": "stream",
     "text": [
      "The Dimension of orignal DF is:  (123871, 8)\n"
     ]
    }
   ],
   "source": [
    "print(\"The Dimension of orignal DF is: \",df.shape)"
   ]
  },
  {
   "cell_type": "code",
   "execution_count": 18,
   "id": "5ae946d4",
   "metadata": {},
   "outputs": [
    {
     "name": "stdout",
     "output_type": "stream",
     "text": [
      "<class 'pandas.core.frame.DataFrame'>\n",
      "RangeIndex: 123871 entries, 0 to 123870\n",
      "Data columns (total 8 columns):\n",
      " #   Column            Non-Null Count   Dtype         \n",
      "---  ------            --------------   -----         \n",
      " 0   serial-number     123871 non-null  int64         \n",
      " 1   status            123871 non-null  object        \n",
      " 2   city              123871 non-null  object        \n",
      " 3   region            123871 non-null  object        \n",
      " 4   NAS               123871 non-null  object        \n",
      " 5   FirstFlightDate   100594 non-null  datetime64[ns]\n",
      " 6   LastFlightDate    100594 non-null  datetime64[ns]\n",
      " 7   RegistrationDate  123871 non-null  datetime64[ns]\n",
      "dtypes: datetime64[ns](3), int64(1), object(4)\n",
      "memory usage: 7.6+ MB\n"
     ]
    }
   ],
   "source": [
    "df.info()"
   ]
  },
  {
   "cell_type": "code",
   "execution_count": 19,
   "id": "8b32e4c9",
   "metadata": {},
   "outputs": [
    {
     "data": {
      "text/html": [
       "<div>\n",
       "<style scoped>\n",
       "    .dataframe tbody tr th:only-of-type {\n",
       "        vertical-align: middle;\n",
       "    }\n",
       "\n",
       "    .dataframe tbody tr th {\n",
       "        vertical-align: top;\n",
       "    }\n",
       "\n",
       "    .dataframe thead th {\n",
       "        text-align: right;\n",
       "    }\n",
       "</style>\n",
       "<table border=\"1\" class=\"dataframe\">\n",
       "  <thead>\n",
       "    <tr style=\"text-align: right;\">\n",
       "      <th></th>\n",
       "      <th>serial-number</th>\n",
       "      <th>status</th>\n",
       "      <th>city</th>\n",
       "      <th>region</th>\n",
       "      <th>NAS</th>\n",
       "      <th>FirstFlightDate</th>\n",
       "      <th>LastFlightDate</th>\n",
       "      <th>RegistrationDate</th>\n",
       "    </tr>\n",
       "  </thead>\n",
       "  <tbody>\n",
       "    <tr>\n",
       "      <th>0</th>\n",
       "      <td>1</td>\n",
       "      <td>فعالة</td>\n",
       "      <td>ثول</td>\n",
       "      <td>Makkah</td>\n",
       "      <td>NAN</td>\n",
       "      <td>2021-04-15</td>\n",
       "      <td>2021-04-16</td>\n",
       "      <td>2021-04-12</td>\n",
       "    </tr>\n",
       "    <tr>\n",
       "      <th>1</th>\n",
       "      <td>2</td>\n",
       "      <td>فعالة</td>\n",
       "      <td>طريف</td>\n",
       "      <td>Riyadh</td>\n",
       "      <td>NAN</td>\n",
       "      <td>2021-03-02</td>\n",
       "      <td>2021-04-20</td>\n",
       "      <td>2021-03-01</td>\n",
       "    </tr>\n",
       "    <tr>\n",
       "      <th>2</th>\n",
       "      <td>3</td>\n",
       "      <td>مستبعدة</td>\n",
       "      <td>NAN</td>\n",
       "      <td>Riyadh</td>\n",
       "      <td>NAN</td>\n",
       "      <td>NaT</td>\n",
       "      <td>NaT</td>\n",
       "      <td>2021-03-10</td>\n",
       "    </tr>\n",
       "    <tr>\n",
       "      <th>3</th>\n",
       "      <td>4</td>\n",
       "      <td>مؤهلة</td>\n",
       "      <td>الخبر</td>\n",
       "      <td>Eastern Region</td>\n",
       "      <td>NAN</td>\n",
       "      <td>NaT</td>\n",
       "      <td>NaT</td>\n",
       "      <td>2021-03-01</td>\n",
       "    </tr>\n",
       "    <tr>\n",
       "      <th>4</th>\n",
       "      <td>5</td>\n",
       "      <td>فعالة</td>\n",
       "      <td>الحائر (امارة الرياض)</td>\n",
       "      <td>Riyadh</td>\n",
       "      <td>NAN</td>\n",
       "      <td>2020-11-04</td>\n",
       "      <td>2021-04-20</td>\n",
       "      <td>2020-11-04</td>\n",
       "    </tr>\n",
       "  </tbody>\n",
       "</table>\n",
       "</div>"
      ],
      "text/plain": [
       "   serial-number   status                   city          region  NAS  \\\n",
       "0              1    فعالة                    ثول          Makkah  NAN   \n",
       "1              2    فعالة                   طريف          Riyadh  NAN   \n",
       "2              3  مستبعدة                    NAN          Riyadh  NAN   \n",
       "3              4    مؤهلة                  الخبر  Eastern Region  NAN   \n",
       "4              5    فعالة  الحائر (امارة الرياض)          Riyadh  NAN   \n",
       "\n",
       "  FirstFlightDate LastFlightDate RegistrationDate  \n",
       "0      2021-04-15     2021-04-16       2021-04-12  \n",
       "1      2021-03-02     2021-04-20       2021-03-01  \n",
       "2             NaT            NaT       2021-03-10  \n",
       "3             NaT            NaT       2021-03-01  \n",
       "4      2020-11-04     2021-04-20       2020-11-04  "
      ]
     },
     "execution_count": 19,
     "metadata": {},
     "output_type": "execute_result"
    }
   ],
   "source": [
    "df.head()"
   ]
  },
  {
   "cell_type": "markdown",
   "id": "b1ad7008",
   "metadata": {},
   "source": [
    "Step 3: EDA"
   ]
  },
  {
   "cell_type": "code",
   "execution_count": 20,
   "id": "3d238eed",
   "metadata": {},
   "outputs": [
    {
     "data": {
      "image/png": "[encoded data removed]",
      "text/plain": [
       "<Figure size 432x288 with 1 Axes>"
      ]
     },
     "metadata": {
      "needs_background": "light"
     },
     "output_type": "display_data"
    }
   ],
   "source": [
    "#1-D chart to check stutes columns \n",
    "sns.countplot(x=df.status, data=df ) ;\n",
    "#plt.xticks(rotation=90)"
   ]
  },
  {
   "cell_type": "code",
   "execution_count": 24,
   "id": "b3ab2daa",
   "metadata": {},
   "outputs": [
    {
     "data": {
      "text/plain": [
       "<seaborn.axisgrid.FacetGrid at 0x1b246ea3460>"
      ]
     },
     "execution_count": 24,
     "metadata": {},
     "output_type": "execute_result"
    },
    {
     "data": {
      "image/png": "[encoded data removed]",
      "text/plain": [
       "<Figure size 555.225x432 with 1 Axes>"
      ]
     },
     "metadata": {},
     "output_type": "display_data"
    }
   ],
   "source": [
    "#2-D chart to check stutes columns with Regoin columns \n",
    "sns.set_theme(style=\"white\")\n",
    "sns.relplot(x=df.status, y=df.region,  palette=\"muted\",\n",
    "         height=6, data=df ,size=\"region\",\n",
    "            sizes=(40, 400), alpha=.5)"
   ]
  },
  {
   "cell_type": "markdown",
   "id": "8bfa7d10",
   "metadata": {},
   "source": [
    "Step 4: Modelling"
   ]
  },
  {
   "cell_type": "markdown",
   "id": "e4bbba6b",
   "metadata": {},
   "source": [
    "1- using Random Forest"
   ]
  },
  {
   "cell_type": "code",
   "execution_count": 51,
   "id": "78f1447a",
   "metadata": {},
   "outputs": [],
   "source": [
    "# Import train_test_split function\n",
    "from sklearn.model_selection import train_test_split\n",
    "\n",
    "#split dataset in features and target variable\n",
    "feature_cols = ['serial-number', 'city', 'region','NAS','FirstFlightDate','LastFlightDate','RegistrationDate']\n",
    "X = df[feature_cols] # Features\n",
    "y = df.status # Target variable\n",
    "                \n",
    "# Split dataset into training set and test set\n",
    "X_train, X_test, y_train, y_test = train_test_split(X, y, test_size=0.3) # 70% training and 30% test"
   ]
  },
  {
   "cell_type": "code",
   "execution_count": 68,
   "id": "4d9565b3",
   "metadata": {},
   "outputs": [
    {
     "name": "stdout",
     "output_type": "stream",
     "text": [
      "Accuracy: 0.906 (0.026)\n"
     ]
    }
   ],
   "source": [
    "from numpy import mean\n",
    "from numpy import std\n",
    "\n",
    "# define dataset\n",
    "X, y = make_classification(n_samples=1000, n_features=20, n_informative=15, n_redundant=5, random_state=3)\n",
    "# define the model\n",
    "model = RandomForestClassifier()\n",
    "# evaluate the model\n",
    "cv = RepeatedStratifiedKFold(n_splits=10, n_repeats=3, random_state=1)\n",
    "n_scores = cross_val_score(model, X, y, scoring='accuracy', cv=cv, n_jobs=-1, error_score='raise')\n",
    "\n",
    "# report performance\n",
    "print('Accuracy: %.3f (%.3f)' % (mean(n_scores), std(n_scores)))"
   ]
  },
  {
   "cell_type": "code",
   "execution_count": 135,
   "id": "1df64d30",
   "metadata": {},
   "outputs": [
    {
     "data": {
      "image/png": "[encoded data removed]",
      "text/plain": [
       "<Figure size 432x288 with 1 Axes>"
      ]
     },
     "metadata": {},
     "output_type": "display_data"
    }
   ],
   "source": [
    "# Creating a bar plot\n",
    "sns.set_theme(style=\"whitegrid\")\n",
    "ax=sns.countplot(x=n_scores, data=df);"
   ]
  }
 ],
 "metadata": {
  "kernelspec": {
   "display_name": "Python 3 (ipykernel)",
   "language": "python",
   "name": "python3"
  },
  "language_info": {
   "codemirror_mode": {
    "name": "ipython",
    "version": 3
   },
   "file_extension": ".py",
   "mimetype": "text/x-python",
   "name": "python",
   "nbconvert_exporter": "python",
   "pygments_lexer": "ipython3",
   "version": "3.9.7"
  }
 },
 "nbformat": 4,
 "nbformat_minor": 5
}
